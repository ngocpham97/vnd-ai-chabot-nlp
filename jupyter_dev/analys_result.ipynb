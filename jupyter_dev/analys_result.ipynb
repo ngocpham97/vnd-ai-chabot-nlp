{
 "cells": [
  {
   "cell_type": "code",
   "execution_count": 1,
   "id": "4950f8b1",
   "metadata": {},
   "outputs": [],
   "source": [
    "import os\n",
    "import json"
   ]
  },
  {
   "cell_type": "code",
   "execution_count": 2,
   "id": "211704a5",
   "metadata": {},
   "outputs": [],
   "source": [
    "result_test_path = \"/home/ngocpt/Project/vnd-ai-nlp-chatbot/results\"\n",
    "intent_error = \"/home/ngocpt/Project/vnd-ai-nlp-chatbot/results/intent_errors.json\""
   ]
  },
  {
   "cell_type": "code",
   "execution_count": 3,
   "id": "890c39a8",
   "metadata": {},
   "outputs": [],
   "source": [
    "with open(intent_error) as f:\n",
    "    data = json.load(f)"
   ]
  },
  {
   "cell_type": "code",
   "execution_count": 13,
   "id": "0d89a1ec",
   "metadata": {},
   "outputs": [
    {
     "name": "stdout",
     "output_type": "stream",
     "text": [
      "{'text': 'Thay đổi số tiền muốn vay được không', 'intent': 'disbursement', 'intent_prediction': {'name': 'change_amount_of_money', 'confidence': 0.992196798324585}}\n",
      "{'text': 'Hình thức vay thế chấp bên em như thế nào', 'intent': 'mortgage', 'intent_prediction': {'name': 'loan_type', 'confidence': 0.9896828532218933}}\n",
      "{'text': 'Những phụ phí nào tôi phải chịu khi thực hiện khoản vay', 'intent': 'overdue_interest', 'intent_prediction': {'name': 'surcharge', 'confidence': 0.989710807800293}}\n",
      "{'text': 'Chị có thể gia hạn thời gian vay được không', 'intent': 'loan_extension', 'intent_prediction': {'name': 'payback_time', 'confidence': 0.9626652002334595}}\n",
      "{'text': 'Không hứng thú, cảm ơn', 'intent': 'not_interest', 'intent_prediction': {'name': 'deny', 'confidence': 0.9506182670593262}}\n",
      "{'text': 'Công ty có gọi điện thoại cho người thân của tôi để thẩm định thông tin không?', 'intent': 'purpose_information', 'intent_prediction': {'name': 'loan_appraisal', 'confidence': 0.9264304637908936}}\n",
      "{'text': 'Quy trình thẩm định vay như thế nào', 'intent': 'loan_process', 'intent_prediction': {'name': 'loan_appraisal', 'confidence': 0.9951722025871277}}\n",
      "{'text': 'Quy trình kí hợp đồng như thế nào', 'intent': 'loan_process', 'intent_prediction': {'name': 'sign_contract', 'confidence': 0.9138625264167786}}\n",
      "{'text': 'Sau bao lâu tôi nhận được kết quả tra soát từ VNDC?', 'intent': 'time_get_money', 'intent_prediction': {'name': 'accept_or_not', 'confidence': 0.9723460078239441}}\n",
      "{'text': 'Làm thế nào để tôi biết khoản vay của tôi đã được giải ngân hay chưa?', 'intent': 'time_get_money', 'intent_prediction': {'name': 'accept_or_not', 'confidence': 0.9745537638664246}}\n",
      "{'text': 'Thanh toán trước hạn sẽ ảnh có sao không', 'intent': 'payment_methods', 'intent_prediction': {'name': 'late_payment', 'confidence': 0.9765656590461731}}\n",
      "{'text': 'Tôi cần thanh toán mức lãi như thế nào?', 'intent': 'interest_rate', 'intent_prediction': {'name': 'interest_payment_period', 'confidence': 0.9419654011726379}}\n",
      "{'text': 'Tôi sẽ suy nghĩ về điều này sau', 'intent': 'deny', 'intent_prediction': {'name': 'affirm', 'confidence': 0.9928061366081238}}\n",
      "{'text': 'Tôi không quan tâm lắm', 'intent': 'deny', 'intent_prediction': {'name': 'not_interest', 'confidence': 0.9933415055274963}}\n",
      "{'text': 'không quan tâm lắm', 'intent': 'deny', 'intent_prediction': {'name': 'not_interest', 'confidence': 0.9827232360839844}}\n",
      "{'text': 'no thanks', 'intent': 'deny', 'intent_prediction': {'name': 'thankyou', 'confidence': 0.9813634157180786}}\n",
      "{'text': 'Có thể vay nhiều khoản vay cùng lúc được không', 'intent': 'loan_information', 'intent_prediction': {'name': 'disbursement', 'confidence': 0.965021014213562}}\n",
      "{'text': 'Thông tin về dịch vụ vay tiền mặt của VNDC', 'intent': 'loan_information', 'intent_prediction': {'name': 'loan_consulting', 'confidence': 0.9064565896987915}}\n",
      "{'text': 'bên em vay như thế nào', 'intent': 'loan_information', 'intent_prediction': {'name': 'loan_type', 'confidence': 0.9705396890640259}}\n",
      "{'text': 'Tôi có thể tìm kiếm thông ty bạn ở đâu', 'intent': 'information_company', 'intent_prediction': {'name': 'adress_company', 'confidence': 0.9945490956306458}}\n",
      "{'text': 'Muốn vay tiền thì tôi cần làm gì', 'intent': 'borrow_money', 'intent_prediction': {'name': 'information_provided', 'confidence': 0.9791744351387024}}\n",
      "{'text': 'Tôi muốn vay số tiền lớn nhất bên công ty có thể cung cấp', 'intent': 'borrow_money', 'intent_prediction': {'name': 'loan_information', 'confidence': 0.9116864204406738}}\n",
      "{'text': 'Tôi muốn mướn 3000000', 'intent': 'borrow_money', 'intent_prediction': {'name': 'inform', 'confidence': 0.9993901252746582}}\n",
      "{'text': 'Hân hạnh được gặp bạn', 'intent': 'greet', 'intent_prediction': {'name': 'goodbye', 'confidence': 0.9393882155418396}}\n",
      "{'text': 'konnichiwa', 'intent': 'greet', 'intent_prediction': {'name': 'inform', 'confidence': 0.9999436140060425}}\n",
      "{'text': 'Tốt', 'intent': 'affirm', 'intent_prediction': {'name': 'greet', 'confidence': 0.9962407946586609}}\n",
      "{'text': 'hoàn toàn đúng', 'intent': 'affirm', 'intent_prediction': {'name': 'inform', 'confidence': 0.9728131890296936}}\n",
      "{'text': 'Đếm các số nguyên tố nhỏ hơn 10000', 'intent': 'out_of_scope', 'intent_prediction': {'name': 'inform', 'confidence': 0.9994349479675293}}\n",
      "{'text': 'Xuan DIeu', 'intent': 'out_of_scope', 'intent_prediction': {'name': 'inform', 'confidence': 0.9999978542327881}}\n",
      "{'text': '--version', 'intent': 'out_of_scope', 'intent_prediction': {'name': 'inform', 'confidence': 0.9998214244842529}}\n",
      "{'text': 'Mảnh', 'intent': 'out_of_scope', 'intent_prediction': {'name': 'inform', 'confidence': 0.9999989867210388}}\n",
      "{'text': 'Những người nhân viên đang liên hoan', 'intent': 'out_of_scope', 'intent_prediction': {'name': 'inform', 'confidence': 0.9997774362564087}}\n",
      "{'text': 'Tôi đang học đại học', 'intent': 'out_of_scope', 'intent_prediction': {'name': 'inform', 'confidence': 0.9999992847442627}}\n",
      "{'text': '18 ạ', 'intent': 'inform', 'intent_prediction': {'name': 'out_of_scope', 'confidence': 0.9832141995429993}}\n",
      "{'text': '12 giờ đi em', 'intent': 'inform', 'intent_prediction': {'name': 'out_of_scope', 'confidence': 0.9910833835601807}}\n"
     ]
    }
   ],
   "source": [
    "for i in data:\n",
    "    if i['intent_prediction']['confidence'] > 0.9:\n",
    "        print(i)"
   ]
  },
  {
   "cell_type": "code",
   "execution_count": 8,
   "id": "a340382e",
   "metadata": {},
   "outputs": [],
   "source": [
    "# display result"
   ]
  },
  {
   "cell_type": "code",
   "execution_count": 9,
   "id": "e14bf9cc",
   "metadata": {},
   "outputs": [],
   "source": [
    "import pandas as pd"
   ]
  },
  {
   "cell_type": "code",
   "execution_count": 21,
   "id": "9999db18",
   "metadata": {},
   "outputs": [],
   "source": [
    "intent_result = pd.read_json(\"/home/ngocpt/Project/vnd-ai-nlp-chatbot/results_500/intent_report.json\")"
   ]
  },
  {
   "cell_type": "code",
   "execution_count": 27,
   "id": "92a15dbd",
   "metadata": {
    "scrolled": true
   },
   "outputs": [
    {
     "data": {
      "text/html": [
       "<div>\n",
       "<style scoped>\n",
       "    .dataframe tbody tr th:only-of-type {\n",
       "        vertical-align: middle;\n",
       "    }\n",
       "\n",
       "    .dataframe tbody tr th {\n",
       "        vertical-align: top;\n",
       "    }\n",
       "\n",
       "    .dataframe thead th {\n",
       "        text-align: right;\n",
       "    }\n",
       "</style>\n",
       "<table border=\"1\" class=\"dataframe\">\n",
       "  <thead>\n",
       "    <tr style=\"text-align: right;\">\n",
       "      <th></th>\n",
       "      <th>precision</th>\n",
       "      <th>recall</th>\n",
       "      <th>f1-score</th>\n",
       "      <th>support</th>\n",
       "      <th>confused_with</th>\n",
       "    </tr>\n",
       "  </thead>\n",
       "  <tbody>\n",
       "    <tr>\n",
       "      <th>payback_time</th>\n",
       "      <td>0.857143</td>\n",
       "      <td>1.0</td>\n",
       "      <td>0.923077</td>\n",
       "      <td>12</td>\n",
       "      <td>{}</td>\n",
       "    </tr>\n",
       "    <tr>\n",
       "      <th>interest_payment_period</th>\n",
       "      <td>1.0</td>\n",
       "      <td>0.428571</td>\n",
       "      <td>0.6</td>\n",
       "      <td>7</td>\n",
       "      <td>{'surcharge': 1, 'payback_time': 1}</td>\n",
       "    </tr>\n",
       "    <tr>\n",
       "      <th>not_interest</th>\n",
       "      <td>1.0</td>\n",
       "      <td>0.857143</td>\n",
       "      <td>0.923077</td>\n",
       "      <td>7</td>\n",
       "      <td>{'interrupt_loan': 1}</td>\n",
       "    </tr>\n",
       "    <tr>\n",
       "      <th>methob_get_money</th>\n",
       "      <td>0.875</td>\n",
       "      <td>0.875</td>\n",
       "      <td>0.875</td>\n",
       "      <td>8</td>\n",
       "      <td>{'borrower': 1}</td>\n",
       "    </tr>\n",
       "    <tr>\n",
       "      <th>contract_information</th>\n",
       "      <td>1.0</td>\n",
       "      <td>1.0</td>\n",
       "      <td>1.0</td>\n",
       "      <td>8</td>\n",
       "      <td>{}</td>\n",
       "    </tr>\n",
       "    <tr>\n",
       "      <th>...</th>\n",
       "      <td>...</td>\n",
       "      <td>...</td>\n",
       "      <td>...</td>\n",
       "      <td>...</td>\n",
       "      <td>...</td>\n",
       "    </tr>\n",
       "    <tr>\n",
       "      <th>disbursement</th>\n",
       "      <td>1.0</td>\n",
       "      <td>0.833333</td>\n",
       "      <td>0.909091</td>\n",
       "      <td>6</td>\n",
       "      <td>{'loan_information': 1}</td>\n",
       "    </tr>\n",
       "    <tr>\n",
       "      <th>incentives</th>\n",
       "      <td>1.0</td>\n",
       "      <td>0.909091</td>\n",
       "      <td>0.952381</td>\n",
       "      <td>11</td>\n",
       "      <td>{'loan_type': 1}</td>\n",
       "    </tr>\n",
       "    <tr>\n",
       "      <th>accuracy</th>\n",
       "      <td>0.94381</td>\n",
       "      <td>0.94381</td>\n",
       "      <td>0.94381</td>\n",
       "      <td>0.94381</td>\n",
       "      <td>0.94381</td>\n",
       "    </tr>\n",
       "    <tr>\n",
       "      <th>macro avg</th>\n",
       "      <td>0.948017</td>\n",
       "      <td>0.924132</td>\n",
       "      <td>0.927117</td>\n",
       "      <td>1050.0</td>\n",
       "      <td>NaN</td>\n",
       "    </tr>\n",
       "    <tr>\n",
       "      <th>weighted avg</th>\n",
       "      <td>0.946158</td>\n",
       "      <td>0.94381</td>\n",
       "      <td>0.941352</td>\n",
       "      <td>1050.0</td>\n",
       "      <td>NaN</td>\n",
       "    </tr>\n",
       "  </tbody>\n",
       "</table>\n",
       "<p>62 rows × 5 columns</p>\n",
       "</div>"
      ],
      "text/plain": [
       "                        precision    recall  f1-score  support  \\\n",
       "payback_time             0.857143       1.0  0.923077       12   \n",
       "interest_payment_period       1.0  0.428571       0.6        7   \n",
       "not_interest                  1.0  0.857143  0.923077        7   \n",
       "methob_get_money            0.875     0.875     0.875        8   \n",
       "contract_information          1.0       1.0       1.0        8   \n",
       "...                           ...       ...       ...      ...   \n",
       "disbursement                  1.0  0.833333  0.909091        6   \n",
       "incentives                    1.0  0.909091  0.952381       11   \n",
       "accuracy                  0.94381   0.94381   0.94381  0.94381   \n",
       "macro avg                0.948017  0.924132  0.927117   1050.0   \n",
       "weighted avg             0.946158   0.94381  0.941352   1050.0   \n",
       "\n",
       "                                               confused_with  \n",
       "payback_time                                              {}  \n",
       "interest_payment_period  {'surcharge': 1, 'payback_time': 1}  \n",
       "not_interest                           {'interrupt_loan': 1}  \n",
       "methob_get_money                             {'borrower': 1}  \n",
       "contract_information                                      {}  \n",
       "...                                                      ...  \n",
       "disbursement                         {'loan_information': 1}  \n",
       "incentives                                  {'loan_type': 1}  \n",
       "accuracy                                             0.94381  \n",
       "macro avg                                                NaN  \n",
       "weighted avg                                             NaN  \n",
       "\n",
       "[62 rows x 5 columns]"
      ]
     },
     "execution_count": 27,
     "metadata": {},
     "output_type": "execute_result"
    }
   ],
   "source": [
    "intent_result.T"
   ]
  },
  {
   "cell_type": "code",
   "execution_count": null,
   "id": "3ec537d9",
   "metadata": {},
   "outputs": [],
   "source": []
  }
 ],
 "metadata": {
  "kernelspec": {
   "display_name": "Python 3 (ipykernel)",
   "language": "python",
   "name": "python3"
  },
  "language_info": {
   "codemirror_mode": {
    "name": "ipython",
    "version": 3
   },
   "file_extension": ".py",
   "mimetype": "text/x-python",
   "name": "python",
   "nbconvert_exporter": "python",
   "pygments_lexer": "ipython3",
   "version": "3.7.10"
  }
 },
 "nbformat": 4,
 "nbformat_minor": 5
}
