{
 "cells": [
  {
   "cell_type": "code",
   "execution_count": 59,
   "id": "f7ae7439",
   "metadata": {},
   "outputs": [],
   "source": [
    "import pandas as pd"
   ]
  },
  {
   "cell_type": "code",
   "execution_count": 60,
   "id": "a5a70c37",
   "metadata": {},
   "outputs": [],
   "source": [
    "import psycopg2\n",
    "import os\n",
    "from tqdm import tqdm\n",
    "from unidecode import unidecode\n",
    "import csv"
   ]
  },
  {
   "cell_type": "code",
   "execution_count": 95,
   "id": "76f1ad12",
   "metadata": {},
   "outputs": [],
   "source": [
    "host                = \"localhost\"\n",
    "port                = 5432\n",
    "username            = \"postgres\"\n",
    "password            = \"postgres\"\n",
    "database            = \"postgres\"\n",
    "table               = \"loan_information_table\"\n",
    "columns             = ['loan_name', 'amount_of_money', 'methob', 'requirement', 'loan_term', 'interest_rate', 'disbursement_time']"
   ]
  },
  {
   "cell_type": "code",
   "execution_count": 96,
   "id": "9b758bbc",
   "metadata": {},
   "outputs": [],
   "source": [
    "class BasePostgreSQL:\n",
    "    def __init__(self, host, port, username, password, database):\n",
    "        self.host     = host\n",
    "        self.port     = port\n",
    "        self.username = username\n",
    "        self.password = password\n",
    "        self.database = database\n",
    "        \n",
    "        self.connection = psycopg2.connect(user=self.username,\n",
    "                                   password=self.password,\n",
    "                                   host=self.host,\n",
    "                                   port=self.port,\n",
    "                                   database=self.database)\n",
    "\n",
    "        self.cursor = self.connection.cursor()\n",
    "\n",
    "    def close(self):\n",
    "        if (self.connection):\n",
    "            self.cursor.close()\n",
    "            self.connection.close()\n",
    "            \n",
    "\n",
    "    def select(self, table_name, columns, key_names=[], key_values=[], key_ops=[], order=False, reverse=False, like=False, limit=None, offset=None):\n",
    "            \n",
    "        query = ' '.join(['SELECT', ('%s')%(', '.join(columns)), 'FROM', table_name])\n",
    "        num_keys = len(key_names)\n",
    "        assert num_keys == len(key_values)\n",
    "        if (like):\n",
    "            if(len(key_ops) == 0):\n",
    "                key_ops = ['LIKE'] * num_keys\n",
    "\n",
    "            if(num_keys > 0):\n",
    "                condition = ' WHERE ' + ' AND '.join(['%s %s '%(key_name, key_op) + '%s' for key_name, key_op in zip(key_names, key_ops)])\n",
    "                query += condition\n",
    "            if(order):\n",
    "                orderby = ' ORDER BY ' + str(order)\n",
    "                query += orderby\n",
    "            if(reverse):\n",
    "                query += ' DESC '\n",
    "            if(limit):\n",
    "                query += ' LIMIT %d'%(limit)\n",
    "            if(offset):\n",
    "                query += ' OFFSET %d'%(offset)\n",
    "\n",
    "        else:\n",
    "            if(len(key_ops) == 0):\n",
    "                key_ops = ['='] * num_keys\n",
    "\n",
    "            if(num_keys > 0):\n",
    "                condition = ' WHERE ' + ' AND '.join(['%s %s '%(key_name, key_op) + '%s' for key_name, key_op in zip(key_names, key_ops)])\n",
    "                query += condition\n",
    "            if(order):\n",
    "                orderby = ' ORDER BY ' + str(order)\n",
    "                query += orderby\n",
    "            if(reverse):\n",
    "                query += ' DESC '\n",
    "            if(limit):\n",
    "                query += ' LIMIT %d'%(limit)\n",
    "            if(offset):\n",
    "                query += ' OFFSET %d'%(offset)\n",
    "\n",
    "        # print(query, key_values)\n",
    "        self.cursor.execute(query, tuple(key_values))\n",
    "        data = self.cursor.fetchall()\n",
    "        return data\n",
    "\n",
    "    def update(self, table_name, target_columns, target_values, key_columns, key_values):\n",
    "        query = ' '.join(['UPDATE ', table_name, 'SET '])\n",
    "\n",
    "        num_updates = len(target_columns)\n",
    "        assert num_updates == len(target_values)\n",
    "\n",
    "        updates = ', '.join(['%s = '%(column) + '%s' for column in target_columns])\n",
    "        query += updates\n",
    "\n",
    "        num_keys = len(key_columns)\n",
    "        assert num_keys == len(key_values)\n",
    "\n",
    "        if(num_keys > 0):\n",
    "            condition = ' WHERE ' + ' AND '.join(['%s = '%(column) + '%s' for column in key_columns])\n",
    "            query += condition\n",
    "\n",
    "        # print(query)\n",
    "        self.cursor.execute(query, tuple(target_values + key_values))\n",
    "        self.connection.commit()\n",
    "\n",
    "    def insert(self, table_name, columns, values):\n",
    "        query = ' '.join(['INSERT INTO', table_name, ('(%s)')%(', '.join(columns)), 'VALUES', '(', ','.join(['%s']*len(values)) , ')'])\n",
    "        values = tuple(values)\n",
    "        # print('table', table_name)\n",
    "        print(query)\n",
    "        # print(values)\n",
    "        self.cursor.execute(query, values)\n",
    "        self.connection.commit()\n",
    "\n",
    "    def delete(self, table_name, key_columns, key_values):\n",
    "        query = ' '.join(['DELETE FROM ', table_name])\n",
    "\n",
    "        condition = ' WHERE ' + ' AND '.join(['%s = '%(column) + '%s' for column in key_columns])\n",
    "        query += condition\n",
    "        self.cursor.execute(query, tuple(key_values))\n",
    "        self.connection.commit()\n",
    "\n"
   ]
  },
  {
   "cell_type": "code",
   "execution_count": 97,
   "id": "26a5d3bb",
   "metadata": {},
   "outputs": [],
   "source": [
    "posgresql_connect = BasePostgreSQL(host, port, username, password, database)"
   ]
  },
  {
   "cell_type": "code",
   "execution_count": null,
   "id": "f00b8cc1",
   "metadata": {},
   "outputs": [],
   "source": []
  },
  {
   "cell_type": "code",
   "execution_count": 74,
   "id": "73b7a881",
   "metadata": {},
   "outputs": [],
   "source": [
    "loan_table = pd.read_csv('/home/ngocpt/loan_information_table.csv')"
   ]
  },
  {
   "cell_type": "code",
   "execution_count": 75,
   "id": "4903999e",
   "metadata": {},
   "outputs": [
    {
     "name": "stdout",
     "output_type": "stream",
     "text": [
      "INSERT INTO loan_information_table (loan_name, amount_of_money, methob, requirement, loan_term, interest_rate, disbursement_time) VALUES ( %s,%s,%s,%s,%s,%s,%s )\n",
      "INSERT INTO loan_information_table (loan_name, amount_of_money, methob, requirement, loan_term, interest_rate, disbursement_time) VALUES ( %s,%s,%s,%s,%s,%s,%s )\n",
      "INSERT INTO loan_information_table (loan_name, amount_of_money, methob, requirement, loan_term, interest_rate, disbursement_time) VALUES ( %s,%s,%s,%s,%s,%s,%s )\n",
      "INSERT INTO loan_information_table (loan_name, amount_of_money, methob, requirement, loan_term, interest_rate, disbursement_time) VALUES ( %s,%s,%s,%s,%s,%s,%s )\n",
      "INSERT INTO loan_information_table (loan_name, amount_of_money, methob, requirement, loan_term, interest_rate, disbursement_time) VALUES ( %s,%s,%s,%s,%s,%s,%s )\n"
     ]
    }
   ],
   "source": [
    "for id, row in loan_table.iterrows():\n",
    "#     print([row[0], row[1], row[2], row[3], row[4], row[5]])\n",
    "    posgresql_connect.insert(table_name=table, columns=columns, values=[row[0], row[1], row[2], row[3], row[4], row[5], row[6]])"
   ]
  },
  {
   "cell_type": "code",
   "execution_count": 121,
   "id": "92d5513b",
   "metadata": {},
   "outputs": [],
   "source": [
    "loan_detail = posgresql_connect.select(table_name='loan_information_table', columns=['loan_name', 'amount_of_money'])"
   ]
  },
  {
   "cell_type": "code",
   "execution_count": 122,
   "id": "39b05060",
   "metadata": {},
   "outputs": [
    {
     "data": {
      "text/plain": [
       "[('MoneyCat', '1000000'),\n",
       " ('Tamo', '2000000'),\n",
       " ('Senmo', '5000000'),\n",
       " ('Takomo', '10000000'),\n",
       " ('Cash24', '15000000')]"
      ]
     },
     "execution_count": 122,
     "metadata": {},
     "output_type": "execute_result"
    }
   ],
   "source": [
    "loan_detail"
   ]
  },
  {
   "cell_type": "code",
   "execution_count": 118,
   "id": "97267542",
   "metadata": {},
   "outputs": [],
   "source": [
    "formatted_loans = \"- Tên gói vay   \t\t: {} \\n- Số tiền       \t\t: {} \\n- Hình thức vay \t\t: {} \\n- Yêu cầu       \t\t: {} \\\n",
    "\\n- Thời hạn vay  \t\t: {} \\n- Lãi xuất     \t\t: {} \\n- Thời gian giải ngân   : {}\".format(loan_detail[0][0], loan_detail[0][1], loan_detail[0][2], loan_detail[0][3], loan_detail[0][4], loan_detail[0][5], loan_detail[0][6])"
   ]
  },
  {
   "cell_type": "code",
   "execution_count": 120,
   "id": "92e779f6",
   "metadata": {},
   "outputs": [
    {
     "name": "stdout",
     "output_type": "stream",
     "text": [
      "- Tên gói vay   \t\t: MoneyCat \n",
      "- Số tiền       \t\t: 1000000 \n",
      "- Hình thức vay \t\t: Vay online \n",
      "- Yêu cầu       \t\t: Cung cấp số điện thoại, căn cước công dân \n",
      "- Thời hạn vay  \t\t: 7 ngày \n",
      "- Lãi xuất     \t\t: 8% \n",
      "- Thời gian giải ngân   : 5 phút\n"
     ]
    }
   ],
   "source": [
    "print(formatted_loans)"
   ]
  },
  {
   "cell_type": "code",
   "execution_count": 1,
   "id": "80485289",
   "metadata": {},
   "outputs": [
    {
     "ename": "NameError",
     "evalue": "name 'self' is not defined",
     "output_type": "error",
     "traceback": [
      "\u001b[0;31m---------------------------------------------------------------------------\u001b[0m",
      "\u001b[0;31mNameError\u001b[0m                                 Traceback (most recent call last)",
      "\u001b[0;32m<ipython-input-1-5ea75a072a93>\u001b[0m in \u001b[0;36m<module>\u001b[0;34m\u001b[0m\n\u001b[0;32m----> 1\u001b[0;31m \u001b[0mdetail\u001b[0m \u001b[0;34m=\u001b[0m \u001b[0mself\u001b[0m\u001b[0;34m.\u001b[0m\u001b[0mselect\u001b[0m\u001b[0;34m(\u001b[0m\u001b[0mtable_name\u001b[0m\u001b[0;34m=\u001b[0m\u001b[0;34m'loan_information_table'\u001b[0m\u001b[0;34m,\u001b[0m \u001b[0mcolumns\u001b[0m\u001b[0;34m=\u001b[0m\u001b[0;34m[\u001b[0m\u001b[0;34m'loan_name'\u001b[0m\u001b[0;34m,\u001b[0m \u001b[0;34m'amount_of_money'\u001b[0m\u001b[0;34m,\u001b[0m \u001b[0;34m'methob'\u001b[0m\u001b[0;34m,\u001b[0m \u001b[0;34m'requirement'\u001b[0m\u001b[0;34m,\u001b[0m \u001b[0;34m'loan_term'\u001b[0m\u001b[0;34m,\u001b[0m \u001b[0;34m'interest_rate'\u001b[0m\u001b[0;34m,\u001b[0m \u001b[0;34m'disbursement_time'\u001b[0m\u001b[0;34m]\u001b[0m\u001b[0;34m,\u001b[0m \u001b[0mkey_names\u001b[0m\u001b[0;34m=\u001b[0m\u001b[0;34m[\u001b[0m\u001b[0;34m'loan_name'\u001b[0m\u001b[0;34m]\u001b[0m\u001b[0;34m,\u001b[0m \u001b[0mkey_values\u001b[0m\u001b[0;34m=\u001b[0m\u001b[0;34m[\u001b[0m\u001b[0;34m'MoneyCat'\u001b[0m\u001b[0;34m]\u001b[0m\u001b[0;34m)\u001b[0m\u001b[0;34m\u001b[0m\u001b[0;34m\u001b[0m\u001b[0m\n\u001b[0m",
      "\u001b[0;31mNameError\u001b[0m: name 'self' is not defined"
     ]
    }
   ],
   "source": [
    "detail = posgresql_connect.select(table_name='loan_information_table', columns=['loan_name', 'amount_of_money', 'methob', 'requirement', 'loan_term', 'interest_rate', 'disbursement_time'], key_names=['loan_name'], key_values=['MoneyCat'])"
   ]
  },
  {
   "cell_type": "code",
   "execution_count": null,
   "id": "7142f4de",
   "metadata": {},
   "outputs": [],
   "source": []
  }
 ],
 "metadata": {
  "kernelspec": {
   "display_name": "Python 3",
   "language": "python",
   "name": "python3"
  },
  "language_info": {
   "codemirror_mode": {
    "name": "ipython",
    "version": 3
   },
   "file_extension": ".py",
   "mimetype": "text/x-python",
   "name": "python",
   "nbconvert_exporter": "python",
   "pygments_lexer": "ipython3",
   "version": "3.6.13"
  }
 },
 "nbformat": 4,
 "nbformat_minor": 5
}
