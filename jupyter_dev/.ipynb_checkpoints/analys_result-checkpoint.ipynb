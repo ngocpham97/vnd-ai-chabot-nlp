{
 "cells": [
  {
   "cell_type": "code",
   "execution_count": 1,
   "id": "4950f8b1",
   "metadata": {},
   "outputs": [],
   "source": [
    "import os\n",
    "import json"
   ]
  },
  {
   "cell_type": "code",
   "execution_count": null,
   "id": "aa60ff52",
   "metadata": {},
   "outputs": [],
   "source": [
    "result_test_path = \"/home/ngocpt/Project/vnd-ai-nlp-chatbot/results\"\n",
    "intent_error = \"/home/ngocpt/Project/vnd-ai-nlp-chatbot/results/intent_errors.json\""
   ]
  }
 ],
 "metadata": {
  "kernelspec": {
   "display_name": "Python 3 (ipykernel)",
   "language": "python",
   "name": "python3"
  },
  "language_info": {
   "codemirror_mode": {
    "name": "ipython",
    "version": 3
   },
   "file_extension": ".py",
   "mimetype": "text/x-python",
   "name": "python",
   "nbconvert_exporter": "python",
   "pygments_lexer": "ipython3",
   "version": "3.7.10"
  }
 },
 "nbformat": 4,
 "nbformat_minor": 5
}
