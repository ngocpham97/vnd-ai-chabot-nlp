{
 "cells": [
  {
   "cell_type": "code",
   "execution_count": 16,
   "id": "78fcc998",
   "metadata": {},
   "outputs": [],
   "source": [
    "import os\n",
    "import sqlalchemy as sa\n",
    "from actions.profile_db import create_database, ProfileDB"
   ]
  },
  {
   "cell_type": "code",
   "execution_count": 17,
   "id": "9773818b",
   "metadata": {},
   "outputs": [],
   "source": [
    "PROFILE_DB_NAME = os.environ.get(\"PROFILE_DB_NAME\", \"profile\")\n",
    "PROFILE_DB_URL = os.environ.get(\"PROFILE_DB_URL\", f\"sqlite:///{PROFILE_DB_NAME}.db\")\n",
    "ENGINE = sa.create_engine(PROFILE_DB_URL)\n",
    "create_database(ENGINE, PROFILE_DB_NAME)"
   ]
  },
  {
   "cell_type": "code",
   "execution_count": 18,
   "id": "1ee4bb09",
   "metadata": {},
   "outputs": [],
   "source": [
    "profile_db = ProfileDB(ENGINE)"
   ]
  },
  {
   "cell_type": "code",
   "execution_count": 19,
   "id": "f540383f",
   "metadata": {},
   "outputs": [],
   "source": [
    "balance_types = profile_db.list_balance_types()"
   ]
  },
  {
   "cell_type": "code",
   "execution_count": 20,
   "id": "55825038",
   "metadata": {},
   "outputs": [
    {
     "data": {
      "text/plain": [
       "['minimum balance', 'current balance']"
      ]
     },
     "execution_count": 20,
     "metadata": {},
     "output_type": "execute_result"
    }
   ],
   "source": [
    "balance_types"
   ]
  },
  {
   "cell_type": "code",
   "execution_count": 21,
   "id": "fe1457b9",
   "metadata": {},
   "outputs": [
    {
     "data": {
      "text/plain": [
       "['william baker',\n",
       " 'kyle gardner',\n",
       " 'katy parrow',\n",
       " 'john jacob',\n",
       " 'evan oslo',\n",
       " 'percy donald']"
      ]
     },
     "execution_count": 21,
     "metadata": {},
     "output_type": "execute_result"
    }
   ],
   "source": [
    "profile_db.list_known_recipients(23)"
   ]
  },
  {
   "cell_type": "code",
   "execution_count": 14,
   "id": "cf5326bd",
   "metadata": {},
   "outputs": [],
   "source": [
    "account_1 = profile_db.get_account_from_number('14')"
   ]
  },
  {
   "cell_type": "code",
   "execution_count": 15,
   "id": "8f243274",
   "metadata": {},
   "outputs": [
    {
     "data": {
      "text/plain": [
       "'yiovllltwh@gmail.com'"
      ]
     },
     "execution_count": 15,
     "metadata": {},
     "output_type": "execute_result"
    }
   ],
   "source": [
    "account_1.gmail"
   ]
  },
  {
   "cell_type": "code",
   "execution_count": 9,
   "id": "7ed441e9",
   "metadata": {},
   "outputs": [],
   "source": [
    "account_2 = profile_db.get_account_from_session_id('recipient_0')"
   ]
  },
  {
   "cell_type": "code",
   "execution_count": 11,
   "id": "1a62779f",
   "metadata": {},
   "outputs": [],
   "source": [
    "account_2.gmail"
   ]
  },
  {
   "cell_type": "code",
   "execution_count": 22,
   "id": "ee8b3879",
   "metadata": {},
   "outputs": [],
   "source": [
    "account, account_number, account_balance = profile_db.get_account_information('23')"
   ]
  },
  {
   "cell_type": "code",
   "execution_count": 36,
   "id": "14ecc551",
   "metadata": {},
   "outputs": [],
   "source": [
    "bank_branch = 'No.148, Nguyen Khanh Toan street, Quan Hoa Ward, Cau Giay district, Ha Noi'\n",
    "information_account = \"Information your account:\\\n",
    "        \\n- Id: {}\\\n",
    "        \\n- Name: {}\\\n",
    "        \\n- Gmail: {}\\\n",
    "        \\n- Bank Branch: {}\\\n",
    "        \\n- Account Balance: {}$\".format(account_number, account.account_holder_name, account.gmail, bank_branch, account_balance)"
   ]
  },
  {
   "cell_type": "code",
   "execution_count": 37,
   "id": "58fcf430",
   "metadata": {},
   "outputs": [
    {
     "name": "stdout",
     "output_type": "stream",
     "text": [
      "Information your account:        \n",
      "- Id: 000000000014        \n",
      "- Name: yiovllltwh        \n",
      "- Gmail: yiovllltwh@gmail.com        \n",
      "- Bank Branch: No.148, Nguyen Khanh Toan street, Quan Hoa Ward, Cau Giay district, Ha Noi        \n",
      "- Account Balance: 55674.10000000003$\n"
     ]
    }
   ],
   "source": [
    "print(information_account)"
   ]
  },
  {
   "cell_type": "code",
   "execution_count": null,
   "id": "a06a0068",
   "metadata": {},
   "outputs": [],
   "source": []
  }
 ],
 "metadata": {
  "kernelspec": {
   "display_name": "Python 3",
   "language": "python",
   "name": "python3"
  },
  "language_info": {
   "codemirror_mode": {
    "name": "ipython",
    "version": 3
   },
   "file_extension": ".py",
   "mimetype": "text/x-python",
   "name": "python",
   "nbconvert_exporter": "python",
   "pygments_lexer": "ipython3",
   "version": "3.6.13"
  }
 },
 "nbformat": 4,
 "nbformat_minor": 5
}
