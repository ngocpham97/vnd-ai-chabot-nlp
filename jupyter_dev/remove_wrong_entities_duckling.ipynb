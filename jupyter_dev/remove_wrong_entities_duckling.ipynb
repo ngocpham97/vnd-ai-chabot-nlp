{
 "cells": [
  {
   "cell_type": "code",
   "execution_count": 1,
   "id": "1402aaa4",
   "metadata": {},
   "outputs": [],
   "source": [
    "import os\n",
    "import json"
   ]
  },
  {
   "cell_type": "code",
   "execution_count": 42,
   "id": "0e1472fc",
   "metadata": {},
   "outputs": [],
   "source": [
    "matches = [{\"body\":\"không\",\"start\":5,\"value\":{\"value\":0,\"type\":\"value\"},\"end\":10,\"dim\":\"number\",\"latent\":'false'},{\"body\":\"100\",\"start\":20,\"value\":{\"value\":100,\"type\":\"value\"},\"end\":23,\"dim\":\"number\",\"latent\":'false'}, {\"body\":\"không\",\"start\":7,\"value\":{\"value\":0,\"type\":\"value\"},\"end\":121,\"dim\":\"number\",\"latent\":'false'}]"
   ]
  },
  {
   "cell_type": "code",
   "execution_count": 43,
   "id": "6c96a44f",
   "metadata": {},
   "outputs": [
    {
     "data": {
      "text/plain": [
       "[{'body': 'không',\n",
       "  'start': 5,\n",
       "  'value': {'value': 0, 'type': 'value'},\n",
       "  'end': 10,\n",
       "  'dim': 'number',\n",
       "  'latent': 'false'},\n",
       " {'body': '100',\n",
       "  'start': 20,\n",
       "  'value': {'value': 100, 'type': 'value'},\n",
       "  'end': 23,\n",
       "  'dim': 'number',\n",
       "  'latent': 'false'},\n",
       " {'body': 'không',\n",
       "  'start': 7,\n",
       "  'value': {'value': 0, 'type': 'value'},\n",
       "  'end': 121,\n",
       "  'dim': 'number',\n",
       "  'latent': 'false'}]"
      ]
     },
     "execution_count": 43,
     "metadata": {},
     "output_type": "execute_result"
    }
   ],
   "source": [
    "matches"
   ]
  },
  {
   "cell_type": "code",
   "execution_count": 45,
   "id": "429a86d3",
   "metadata": {},
   "outputs": [],
   "source": [
    "matches = [i for i in matches if i['body'] != 'không']"
   ]
  },
  {
   "cell_type": "code",
   "execution_count": 46,
   "id": "fb229514",
   "metadata": {},
   "outputs": [
    {
     "data": {
      "text/plain": [
       "[{'body': '100',\n",
       "  'start': 20,\n",
       "  'value': {'value': 100, 'type': 'value'},\n",
       "  'end': 23,\n",
       "  'dim': 'number',\n",
       "  'latent': 'false'}]"
      ]
     },
     "execution_count": 46,
     "metadata": {},
     "output_type": "execute_result"
    }
   ],
   "source": [
    "matches"
   ]
  },
  {
   "cell_type": "code",
   "execution_count": null,
   "id": "e2b23cff",
   "metadata": {},
   "outputs": [],
   "source": []
  }
 ],
 "metadata": {
  "kernelspec": {
   "display_name": "Python 3",
   "language": "python",
   "name": "python3"
  },
  "language_info": {
   "codemirror_mode": {
    "name": "ipython",
    "version": 3
   },
   "file_extension": ".py",
   "mimetype": "text/x-python",
   "name": "python",
   "nbconvert_exporter": "python",
   "pygments_lexer": "ipython3",
   "version": "3.6.13"
  }
 },
 "nbformat": 4,
 "nbformat_minor": 5
}
